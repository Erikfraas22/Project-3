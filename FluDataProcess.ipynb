{
 "cells": [
  {
   "cell_type": "code",
   "execution_count": 2,
   "metadata": {},
   "outputs": [],
   "source": [
    "#Import Dependencies\n",
    "import pandas as pd\n",
    "from datetime import date\n",
    "from pathlib import Path"
   ]
  },
  {
   "cell_type": "code",
   "execution_count": 3,
   "metadata": {},
   "outputs": [],
   "source": [
    "#Set Paths for Data CSV's\n",
    "clinp=Path(\"Resources/WHO_NREVSS_Clinical_Labs.csv\")\n",
    "pubp=Path(\"Resources/WHO_NREVSS_Public_Health_Labs.csv\")\n",
    "comp=Path(\"Resources/WHO_NREVSS_Combined_prior_to_2015_16.csv\")"
   ]
  },
  {
   "cell_type": "code",
   "execution_count": 54,
   "metadata": {},
   "outputs": [
    {
     "data": {
      "application/vnd.microsoft.datawrangler.viewer.v0+json": {
       "columns": [
        {
         "name": "index",
         "rawType": "int64",
         "type": "integer"
        },
        {
         "name": "REGION TYPE",
         "rawType": "object",
         "type": "string"
        },
        {
         "name": "REGION",
         "rawType": "object",
         "type": "string"
        },
        {
         "name": "SEASON_DESCRIPTION",
         "rawType": "object",
         "type": "string"
        },
        {
         "name": "TOTAL SPECIMENS",
         "rawType": "object",
         "type": "string"
        },
        {
         "name": "A (2009 H1N1)",
         "rawType": "object",
         "type": "string"
        },
        {
         "name": "A (H3)",
         "rawType": "object",
         "type": "string"
        },
        {
         "name": "A (Subtyping not Performed)",
         "rawType": "object",
         "type": "string"
        },
        {
         "name": "B",
         "rawType": "object",
         "type": "string"
        },
        {
         "name": "BVic",
         "rawType": "object",
         "type": "string"
        },
        {
         "name": "BYam",
         "rawType": "object",
         "type": "string"
        },
        {
         "name": "H3N2v",
         "rawType": "object",
         "type": "string"
        },
        {
         "name": "A (H5)",
         "rawType": "object",
         "type": "string"
        }
       ],
       "conversionMethod": "pd.DataFrame",
       "ref": "300ab644-084d-4314-b3f2-19f98c32349d",
       "rows": [
        [
         "0",
         "States",
         "Alabama",
         "Season 2015-16",
         "256",
         "59",
         "16",
         "1",
         "2",
         "2",
         "2",
         "0",
         "0"
        ],
        [
         "1",
         "States",
         "Alaska",
         "Season 2015-16",
         "4691",
         "607",
         "98",
         "0",
         "231",
         "1",
         "2",
         "0",
         "0"
        ],
        [
         "2",
         "States",
         "Arizona",
         "Season 2015-16",
         "2110",
         "762",
         "580",
         "0",
         "13",
         "58",
         "399",
         "0",
         "0"
        ],
        [
         "3",
         "States",
         "Arkansas",
         "Season 2015-16",
         "128",
         "20",
         "8",
         "0",
         "1",
         "12",
         "0",
         "0",
         "0"
        ],
        [
         "4",
         "States",
         "California",
         "Season 2015-16",
         "12820",
         "1462",
         "854",
         "35",
         "775",
         "309",
         "803",
         "0",
         "0"
        ]
       ],
       "shape": {
        "columns": 12,
        "rows": 5
       }
      },
      "text/html": [
       "<div>\n",
       "<style scoped>\n",
       "    .dataframe tbody tr th:only-of-type {\n",
       "        vertical-align: middle;\n",
       "    }\n",
       "\n",
       "    .dataframe tbody tr th {\n",
       "        vertical-align: top;\n",
       "    }\n",
       "\n",
       "    .dataframe thead th {\n",
       "        text-align: right;\n",
       "    }\n",
       "</style>\n",
       "<table border=\"1\" class=\"dataframe\">\n",
       "  <thead>\n",
       "    <tr style=\"text-align: right;\">\n",
       "      <th></th>\n",
       "      <th>REGION TYPE</th>\n",
       "      <th>REGION</th>\n",
       "      <th>SEASON_DESCRIPTION</th>\n",
       "      <th>TOTAL SPECIMENS</th>\n",
       "      <th>A (2009 H1N1)</th>\n",
       "      <th>A (H3)</th>\n",
       "      <th>A (Subtyping not Performed)</th>\n",
       "      <th>B</th>\n",
       "      <th>BVic</th>\n",
       "      <th>BYam</th>\n",
       "      <th>H3N2v</th>\n",
       "      <th>A (H5)</th>\n",
       "    </tr>\n",
       "  </thead>\n",
       "  <tbody>\n",
       "    <tr>\n",
       "      <th>0</th>\n",
       "      <td>States</td>\n",
       "      <td>Alabama</td>\n",
       "      <td>Season 2015-16</td>\n",
       "      <td>256</td>\n",
       "      <td>59</td>\n",
       "      <td>16</td>\n",
       "      <td>1</td>\n",
       "      <td>2</td>\n",
       "      <td>2</td>\n",
       "      <td>2</td>\n",
       "      <td>0</td>\n",
       "      <td>0</td>\n",
       "    </tr>\n",
       "    <tr>\n",
       "      <th>1</th>\n",
       "      <td>States</td>\n",
       "      <td>Alaska</td>\n",
       "      <td>Season 2015-16</td>\n",
       "      <td>4691</td>\n",
       "      <td>607</td>\n",
       "      <td>98</td>\n",
       "      <td>0</td>\n",
       "      <td>231</td>\n",
       "      <td>1</td>\n",
       "      <td>2</td>\n",
       "      <td>0</td>\n",
       "      <td>0</td>\n",
       "    </tr>\n",
       "    <tr>\n",
       "      <th>2</th>\n",
       "      <td>States</td>\n",
       "      <td>Arizona</td>\n",
       "      <td>Season 2015-16</td>\n",
       "      <td>2110</td>\n",
       "      <td>762</td>\n",
       "      <td>580</td>\n",
       "      <td>0</td>\n",
       "      <td>13</td>\n",
       "      <td>58</td>\n",
       "      <td>399</td>\n",
       "      <td>0</td>\n",
       "      <td>0</td>\n",
       "    </tr>\n",
       "    <tr>\n",
       "      <th>3</th>\n",
       "      <td>States</td>\n",
       "      <td>Arkansas</td>\n",
       "      <td>Season 2015-16</td>\n",
       "      <td>128</td>\n",
       "      <td>20</td>\n",
       "      <td>8</td>\n",
       "      <td>0</td>\n",
       "      <td>1</td>\n",
       "      <td>12</td>\n",
       "      <td>0</td>\n",
       "      <td>0</td>\n",
       "      <td>0</td>\n",
       "    </tr>\n",
       "    <tr>\n",
       "      <th>4</th>\n",
       "      <td>States</td>\n",
       "      <td>California</td>\n",
       "      <td>Season 2015-16</td>\n",
       "      <td>12820</td>\n",
       "      <td>1462</td>\n",
       "      <td>854</td>\n",
       "      <td>35</td>\n",
       "      <td>775</td>\n",
       "      <td>309</td>\n",
       "      <td>803</td>\n",
       "      <td>0</td>\n",
       "      <td>0</td>\n",
       "    </tr>\n",
       "  </tbody>\n",
       "</table>\n",
       "</div>"
      ],
      "text/plain": [
       "  REGION TYPE      REGION SEASON_DESCRIPTION TOTAL SPECIMENS A (2009 H1N1)  \\\n",
       "0      States     Alabama     Season 2015-16             256            59   \n",
       "1      States      Alaska     Season 2015-16            4691           607   \n",
       "2      States     Arizona     Season 2015-16            2110           762   \n",
       "3      States    Arkansas     Season 2015-16             128            20   \n",
       "4      States  California     Season 2015-16           12820          1462   \n",
       "\n",
       "  A (H3) A (Subtyping not Performed)    B BVic BYam H3N2v A (H5)  \n",
       "0     16                           1    2    2    2     0      0  \n",
       "1     98                           0  231    1    2     0      0  \n",
       "2    580                           0   13   58  399     0      0  \n",
       "3      8                           0    1   12    0     0      0  \n",
       "4    854                          35  775  309  803     0      0  "
      ]
     },
     "execution_count": 54,
     "metadata": {},
     "output_type": "execute_result"
    }
   ],
   "source": [
    "#Read Data from the CSV's\n",
    "clinical = pd.read_csv(clinp,header=1)\n",
    "public = pd.read_csv(pubp, header=1)\n",
    "combo2016= pd.read_csv(comp, header=1)\n",
    "\n",
    "\n",
    "public.head()\n"
   ]
  },
  {
   "cell_type": "code",
   "execution_count": null,
   "metadata": {},
   "outputs": [
    {
     "name": "stdout",
     "output_type": "stream",
     "text": [
      "                              TOTAL SPECIMENS  TOTAL A  TOTAL B\n",
      "Season         REGION                                          \n",
      "Season 2015-16 Alabama                   8727      382       68\n",
      "               Alaska                     306       57       18\n",
      "               Arizona                   3460      285       56\n",
      "               Arkansas                  2022       47      114\n",
      "               California               43964     2755     2020\n",
      "...                                       ...      ...      ...\n",
      "Season 2025-26 Virginia                  1388      247        2\n",
      "               Washington                3925      562       29\n",
      "               West Virginia              733       94        1\n",
      "               Wisconsin                16193     2479       23\n",
      "               Wyoming                     21        5        0\n",
      "\n",
      "[494 rows x 3 columns]\n"
     ]
    }
   ],
   "source": [
    "#Isolate the data taken during flu season (October-May)\n",
    "clinical[\"Season\"]=clinical[[\"YEAR\",\"WEEK\"]].apply(lambda row: date.fromisocalendar(int(row['YEAR']), int(row['WEEK']),1).month,axis=1)\n",
    "clinical=clinical.drop(clinical[(clinical.Season<10)&(clinical.Season>5)].index)\n",
    "\n",
    "#Drop X only rows\n",
    "clinical=clinical[clinical[\"TOTAL SPECIMENS\"]!=\"X\"]\n",
    "\n",
    "#Convert date data into \"Season year1-year2\" format present in the Public dataset\n",
    "clinical.loc[(clinical[\"Season\"]<10),\"YEAR\"]=clinical[\"YEAR\"].apply(lambda x: x-1)\n",
    "clinical[\"YEAR_2\"]=clinical[\"YEAR\"].apply(lambda x: str(x+1)[2:4])\n",
    "clinical[\"Season\"]=clinical[[\"YEAR\",\"YEAR_2\"]].apply(lambda row: \"Season \"+str(row[\"YEAR\"])+\"-\"+row[\"YEAR_2\"],axis=1)\n",
    "\n",
    "#Convert Numerical Data into integers\n",
    "clinical=clinical.astype({\"TOTAL SPECIMENS\":\"int32\",\"TOTAL A\":\"int32\",\"TOTAL B\":\"int32\"})\n",
    "\n",
    "#Groupby Season and Region, summing the weekly data into season data\n",
    "clinical=clinical[[\"Season\",\"REGION\",\"TOTAL SPECIMENS\",\"TOTAL A\",\"TOTAL B\"]].groupby([\"Season\",\"REGION\"]).sum(numeric_only=1)\n",
    "print(clinical)\n",
    "\n"
   ]
  },
  {
   "cell_type": "code",
   "execution_count": null,
   "metadata": {},
   "outputs": [
    {
     "data": {
      "application/vnd.microsoft.datawrangler.viewer.v0+json": {
       "columns": [
        {
         "name": "index",
         "rawType": "int64",
         "type": "integer"
        },
        {
         "name": "REGION TYPE",
         "rawType": "object",
         "type": "string"
        },
        {
         "name": "REGION",
         "rawType": "object",
         "type": "string"
        },
        {
         "name": "YEAR",
         "rawType": "int64",
         "type": "integer"
        },
        {
         "name": "WEEK",
         "rawType": "int64",
         "type": "integer"
        },
        {
         "name": "TOTAL SPECIMENS",
         "rawType": "object",
         "type": "string"
        },
        {
         "name": "PERCENT POSITIVE",
         "rawType": "object",
         "type": "string"
        },
        {
         "name": "A (2009 H1N1)",
         "rawType": "object",
         "type": "string"
        },
        {
         "name": "A (H1)",
         "rawType": "object",
         "type": "string"
        },
        {
         "name": "A (H3)",
         "rawType": "object",
         "type": "string"
        },
        {
         "name": "A (Subtyping not Performed)",
         "rawType": "object",
         "type": "string"
        },
        {
         "name": "A (Unable to Subtype)",
         "rawType": "object",
         "type": "string"
        },
        {
         "name": "B",
         "rawType": "object",
         "type": "string"
        },
        {
         "name": "H3N2v",
         "rawType": "object",
         "type": "string"
        },
        {
         "name": "A (H5)",
         "rawType": "object",
         "type": "string"
        }
       ],
       "conversionMethod": "pd.DataFrame",
       "ref": "bf2c8300-f495-482d-addf-e4a6d642db28",
       "rows": [
        [
         "0",
         "States",
         "Alabama",
         "2010",
         "40",
         "54",
         "0",
         "0",
         "0",
         "0",
         "0",
         "0",
         "0",
         "0",
         "X"
        ],
        [
         "1",
         "States",
         "Alaska",
         "2010",
         "40",
         "40",
         "0",
         "0",
         "0",
         "0",
         "0",
         "0",
         "0",
         "0",
         "X"
        ],
        [
         "2",
         "States",
         "Arizona",
         "2010",
         "40",
         "40",
         "2.5",
         "0",
         "0",
         "1",
         "0",
         "0",
         "0",
         "0",
         "X"
        ],
        [
         "3",
         "States",
         "Arkansas",
         "2010",
         "40",
         "15",
         "0",
         "0",
         "0",
         "0",
         "0",
         "0",
         "0",
         "0",
         "X"
        ],
        [
         "4",
         "States",
         "California",
         "2010",
         "40",
         "183",
         "3.28",
         "2",
         "0",
         "3",
         "0",
         "0",
         "1",
         "0",
         "X"
        ]
       ],
       "shape": {
        "columns": 14,
        "rows": 5
       }
      },
      "text/html": [
       "<div>\n",
       "<style scoped>\n",
       "    .dataframe tbody tr th:only-of-type {\n",
       "        vertical-align: middle;\n",
       "    }\n",
       "\n",
       "    .dataframe tbody tr th {\n",
       "        vertical-align: top;\n",
       "    }\n",
       "\n",
       "    .dataframe thead th {\n",
       "        text-align: right;\n",
       "    }\n",
       "</style>\n",
       "<table border=\"1\" class=\"dataframe\">\n",
       "  <thead>\n",
       "    <tr style=\"text-align: right;\">\n",
       "      <th></th>\n",
       "      <th>REGION TYPE</th>\n",
       "      <th>REGION</th>\n",
       "      <th>YEAR</th>\n",
       "      <th>WEEK</th>\n",
       "      <th>TOTAL SPECIMENS</th>\n",
       "      <th>PERCENT POSITIVE</th>\n",
       "      <th>A (2009 H1N1)</th>\n",
       "      <th>A (H1)</th>\n",
       "      <th>A (H3)</th>\n",
       "      <th>A (Subtyping not Performed)</th>\n",
       "      <th>A (Unable to Subtype)</th>\n",
       "      <th>B</th>\n",
       "      <th>H3N2v</th>\n",
       "      <th>A (H5)</th>\n",
       "    </tr>\n",
       "  </thead>\n",
       "  <tbody>\n",
       "    <tr>\n",
       "      <th>0</th>\n",
       "      <td>States</td>\n",
       "      <td>Alabama</td>\n",
       "      <td>2010</td>\n",
       "      <td>40</td>\n",
       "      <td>54</td>\n",
       "      <td>0</td>\n",
       "      <td>0</td>\n",
       "      <td>0</td>\n",
       "      <td>0</td>\n",
       "      <td>0</td>\n",
       "      <td>0</td>\n",
       "      <td>0</td>\n",
       "      <td>0</td>\n",
       "      <td>X</td>\n",
       "    </tr>\n",
       "    <tr>\n",
       "      <th>1</th>\n",
       "      <td>States</td>\n",
       "      <td>Alaska</td>\n",
       "      <td>2010</td>\n",
       "      <td>40</td>\n",
       "      <td>40</td>\n",
       "      <td>0</td>\n",
       "      <td>0</td>\n",
       "      <td>0</td>\n",
       "      <td>0</td>\n",
       "      <td>0</td>\n",
       "      <td>0</td>\n",
       "      <td>0</td>\n",
       "      <td>0</td>\n",
       "      <td>X</td>\n",
       "    </tr>\n",
       "    <tr>\n",
       "      <th>2</th>\n",
       "      <td>States</td>\n",
       "      <td>Arizona</td>\n",
       "      <td>2010</td>\n",
       "      <td>40</td>\n",
       "      <td>40</td>\n",
       "      <td>2.5</td>\n",
       "      <td>0</td>\n",
       "      <td>0</td>\n",
       "      <td>1</td>\n",
       "      <td>0</td>\n",
       "      <td>0</td>\n",
       "      <td>0</td>\n",
       "      <td>0</td>\n",
       "      <td>X</td>\n",
       "    </tr>\n",
       "    <tr>\n",
       "      <th>3</th>\n",
       "      <td>States</td>\n",
       "      <td>Arkansas</td>\n",
       "      <td>2010</td>\n",
       "      <td>40</td>\n",
       "      <td>15</td>\n",
       "      <td>0</td>\n",
       "      <td>0</td>\n",
       "      <td>0</td>\n",
       "      <td>0</td>\n",
       "      <td>0</td>\n",
       "      <td>0</td>\n",
       "      <td>0</td>\n",
       "      <td>0</td>\n",
       "      <td>X</td>\n",
       "    </tr>\n",
       "    <tr>\n",
       "      <th>4</th>\n",
       "      <td>States</td>\n",
       "      <td>California</td>\n",
       "      <td>2010</td>\n",
       "      <td>40</td>\n",
       "      <td>183</td>\n",
       "      <td>3.28</td>\n",
       "      <td>2</td>\n",
       "      <td>0</td>\n",
       "      <td>3</td>\n",
       "      <td>0</td>\n",
       "      <td>0</td>\n",
       "      <td>1</td>\n",
       "      <td>0</td>\n",
       "      <td>X</td>\n",
       "    </tr>\n",
       "  </tbody>\n",
       "</table>\n",
       "</div>"
      ],
      "text/plain": [
       "  REGION TYPE      REGION  YEAR  WEEK TOTAL SPECIMENS PERCENT POSITIVE  \\\n",
       "0      States     Alabama  2010    40              54                0   \n",
       "1      States      Alaska  2010    40              40                0   \n",
       "2      States     Arizona  2010    40              40              2.5   \n",
       "3      States    Arkansas  2010    40              15                0   \n",
       "4      States  California  2010    40             183             3.28   \n",
       "\n",
       "  A (2009 H1N1) A (H1) A (H3) A (Subtyping not Performed)  \\\n",
       "0             0      0      0                           0   \n",
       "1             0      0      0                           0   \n",
       "2             0      0      1                           0   \n",
       "3             0      0      0                           0   \n",
       "4             2      0      3                           0   \n",
       "\n",
       "  A (Unable to Subtype)  B H3N2v A (H5)  \n",
       "0                     0  0     0      X  \n",
       "1                     0  0     0      X  \n",
       "2                     0  0     0      X  \n",
       "3                     0  0     0      X  \n",
       "4                     0  1     0      X  "
      ]
     },
     "execution_count": 33,
     "metadata": {},
     "output_type": "execute_result"
    }
   ],
   "source": [
    "#Replace isolated X's with 0's\n",
    "combo2016=combo2016[combo2016[\"TOTAL SPECIMENS\"]!=\"X\"]\n",
    "combo2016=combo2016[(combo2016[\"A (2009 H1N1)\"]==\"X\")|\n",
    "          (combo2016[\"A (H1)\"]==\"X\")|\n",
    "          (combo2016[\"A (H3)\"]==\"X\")|\n",
    "          (combo2016[\"A (Subtyping not Performed)\"]==\"X\")|\n",
    "          (combo2016[\"A (Unable to Subtype)\"]==\"X\")|\n",
    "          (combo2016[\"B\"]==\"X\")|\n",
    "          (combo2016[\"H3N2v\"]==\"X\")|\n",
    "          (combo2016[\"A (H5)\"]==\"X\")]\n",
    "combo2016[combo2016[\"A (H5)\"]==\"X\"].head()"
   ]
  }
 ],
 "metadata": {
  "kernelspec": {
   "display_name": "dev",
   "language": "python",
   "name": "python3"
  },
  "language_info": {
   "codemirror_mode": {
    "name": "ipython",
    "version": 3
   },
   "file_extension": ".py",
   "mimetype": "text/x-python",
   "name": "python",
   "nbconvert_exporter": "python",
   "pygments_lexer": "ipython3",
   "version": "3.10.15"
  }
 },
 "nbformat": 4,
 "nbformat_minor": 2
}
