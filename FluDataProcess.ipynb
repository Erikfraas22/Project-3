{
 "cells": [
  {
   "cell_type": "code",
   "execution_count": null,
   "metadata": {},
   "outputs": [],
   "source": [
    "#Import Dependencies\n",
    "import pandas as pd\n",
    "from pathlib import Path"
   ]
  },
  {
   "cell_type": "code",
   "execution_count": null,
   "metadata": {},
   "outputs": [],
   "source": [
    "#Set Paths for Data CSV's\n",
    "clinp=Path(\"Resources/WHO_NREVSS_Clinical_Labs.csv\")\n",
    "pubp=Path(\"Resources/WHO_NREVSS_Public_Health_Labs.csv\")\n",
    "comp=Path(\"Resources/WHO_NREVSS_Combined_prior_to_2015_16.csv\")"
   ]
  },
  {
   "cell_type": "code",
   "execution_count": null,
   "metadata": {},
   "outputs": [],
   "source": [
    "#Read Data from the CSV's\n",
    "clinical = pd.read_csv(clinp)\n",
    "public = pd.read_csv(pubp)\n",
    "combo2016= pd.read_csv(comp)"
   ]
  }
 ],
 "metadata": {
  "language_info": {
   "name": "python"
  }
 },
 "nbformat": 4,
 "nbformat_minor": 2
}
