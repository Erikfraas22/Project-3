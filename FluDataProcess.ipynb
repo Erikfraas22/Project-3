{
 "cells": [
  {
   "cell_type": "code",
   "execution_count": 1,
   "metadata": {},
   "outputs": [],
   "source": [
    "#Import Dependencies\n",
    "import pandas as pd\n",
    "from datetime import date\n",
    "from pathlib import Path"
   ]
  },
  {
   "cell_type": "code",
   "execution_count": 2,
   "metadata": {},
   "outputs": [],
   "source": [
    "#Set Paths for Data CSV's\n",
    "clinp=Path(\"Resources/WHO_NREVSS_Clinical_Labs.csv\")\n",
    "pubp=Path(\"Resources/WHO_NREVSS_Public_Health_Labs.csv\")\n",
    "comp=Path(\"Resources/WHO_NREVSS_Combined_prior_to_2015_16.csv\")"
   ]
  },
  {
   "cell_type": "code",
   "execution_count": 90,
   "metadata": {},
   "outputs": [
    {
     "data": {
      "application/vnd.microsoft.datawrangler.viewer.v0+json": {
       "columns": [
        {
         "name": "index",
         "rawType": "int64",
         "type": "integer"
        },
        {
         "name": "REGION TYPE",
         "rawType": "object",
         "type": "string"
        },
        {
         "name": "REGION",
         "rawType": "object",
         "type": "string"
        },
        {
         "name": "SEASON_DESCRIPTION",
         "rawType": "object",
         "type": "string"
        },
        {
         "name": "TOTAL SPECIMENS",
         "rawType": "object",
         "type": "string"
        },
        {
         "name": "A (2009 H1N1)",
         "rawType": "object",
         "type": "string"
        },
        {
         "name": "A (H3)",
         "rawType": "object",
         "type": "string"
        },
        {
         "name": "A (Subtyping not Performed)",
         "rawType": "object",
         "type": "string"
        },
        {
         "name": "B",
         "rawType": "object",
         "type": "string"
        },
        {
         "name": "BVic",
         "rawType": "object",
         "type": "string"
        },
        {
         "name": "BYam",
         "rawType": "object",
         "type": "string"
        },
        {
         "name": "H3N2v",
         "rawType": "object",
         "type": "string"
        },
        {
         "name": "A (H5)",
         "rawType": "object",
         "type": "string"
        }
       ],
       "conversionMethod": "pd.DataFrame",
       "ref": "6f3af70f-e1cd-40c4-8fcf-6040926934ac",
       "rows": [
        [
         "0",
         "States",
         "Alabama",
         "Season 2015-16",
         "256",
         "59",
         "16",
         "1",
         "2",
         "2",
         "2",
         "0",
         "0"
        ],
        [
         "1",
         "States",
         "Alaska",
         "Season 2015-16",
         "4691",
         "607",
         "98",
         "0",
         "231",
         "1",
         "2",
         "0",
         "0"
        ],
        [
         "2",
         "States",
         "Arizona",
         "Season 2015-16",
         "2110",
         "762",
         "580",
         "0",
         "13",
         "58",
         "399",
         "0",
         "0"
        ],
        [
         "3",
         "States",
         "Arkansas",
         "Season 2015-16",
         "128",
         "20",
         "8",
         "0",
         "1",
         "12",
         "0",
         "0",
         "0"
        ],
        [
         "4",
         "States",
         "California",
         "Season 2015-16",
         "12820",
         "1462",
         "854",
         "35",
         "775",
         "309",
         "803",
         "0",
         "0"
        ]
       ],
       "shape": {
        "columns": 12,
        "rows": 5
       }
      },
      "text/html": [
       "<div>\n",
       "<style scoped>\n",
       "    .dataframe tbody tr th:only-of-type {\n",
       "        vertical-align: middle;\n",
       "    }\n",
       "\n",
       "    .dataframe tbody tr th {\n",
       "        vertical-align: top;\n",
       "    }\n",
       "\n",
       "    .dataframe thead th {\n",
       "        text-align: right;\n",
       "    }\n",
       "</style>\n",
       "<table border=\"1\" class=\"dataframe\">\n",
       "  <thead>\n",
       "    <tr style=\"text-align: right;\">\n",
       "      <th></th>\n",
       "      <th>REGION TYPE</th>\n",
       "      <th>REGION</th>\n",
       "      <th>SEASON_DESCRIPTION</th>\n",
       "      <th>TOTAL SPECIMENS</th>\n",
       "      <th>A (2009 H1N1)</th>\n",
       "      <th>A (H3)</th>\n",
       "      <th>A (Subtyping not Performed)</th>\n",
       "      <th>B</th>\n",
       "      <th>BVic</th>\n",
       "      <th>BYam</th>\n",
       "      <th>H3N2v</th>\n",
       "      <th>A (H5)</th>\n",
       "    </tr>\n",
       "  </thead>\n",
       "  <tbody>\n",
       "    <tr>\n",
       "      <th>0</th>\n",
       "      <td>States</td>\n",
       "      <td>Alabama</td>\n",
       "      <td>Season 2015-16</td>\n",
       "      <td>256</td>\n",
       "      <td>59</td>\n",
       "      <td>16</td>\n",
       "      <td>1</td>\n",
       "      <td>2</td>\n",
       "      <td>2</td>\n",
       "      <td>2</td>\n",
       "      <td>0</td>\n",
       "      <td>0</td>\n",
       "    </tr>\n",
       "    <tr>\n",
       "      <th>1</th>\n",
       "      <td>States</td>\n",
       "      <td>Alaska</td>\n",
       "      <td>Season 2015-16</td>\n",
       "      <td>4691</td>\n",
       "      <td>607</td>\n",
       "      <td>98</td>\n",
       "      <td>0</td>\n",
       "      <td>231</td>\n",
       "      <td>1</td>\n",
       "      <td>2</td>\n",
       "      <td>0</td>\n",
       "      <td>0</td>\n",
       "    </tr>\n",
       "    <tr>\n",
       "      <th>2</th>\n",
       "      <td>States</td>\n",
       "      <td>Arizona</td>\n",
       "      <td>Season 2015-16</td>\n",
       "      <td>2110</td>\n",
       "      <td>762</td>\n",
       "      <td>580</td>\n",
       "      <td>0</td>\n",
       "      <td>13</td>\n",
       "      <td>58</td>\n",
       "      <td>399</td>\n",
       "      <td>0</td>\n",
       "      <td>0</td>\n",
       "    </tr>\n",
       "    <tr>\n",
       "      <th>3</th>\n",
       "      <td>States</td>\n",
       "      <td>Arkansas</td>\n",
       "      <td>Season 2015-16</td>\n",
       "      <td>128</td>\n",
       "      <td>20</td>\n",
       "      <td>8</td>\n",
       "      <td>0</td>\n",
       "      <td>1</td>\n",
       "      <td>12</td>\n",
       "      <td>0</td>\n",
       "      <td>0</td>\n",
       "      <td>0</td>\n",
       "    </tr>\n",
       "    <tr>\n",
       "      <th>4</th>\n",
       "      <td>States</td>\n",
       "      <td>California</td>\n",
       "      <td>Season 2015-16</td>\n",
       "      <td>12820</td>\n",
       "      <td>1462</td>\n",
       "      <td>854</td>\n",
       "      <td>35</td>\n",
       "      <td>775</td>\n",
       "      <td>309</td>\n",
       "      <td>803</td>\n",
       "      <td>0</td>\n",
       "      <td>0</td>\n",
       "    </tr>\n",
       "  </tbody>\n",
       "</table>\n",
       "</div>"
      ],
      "text/plain": [
       "  REGION TYPE      REGION SEASON_DESCRIPTION TOTAL SPECIMENS A (2009 H1N1)  \\\n",
       "0      States     Alabama     Season 2015-16             256            59   \n",
       "1      States      Alaska     Season 2015-16            4691           607   \n",
       "2      States     Arizona     Season 2015-16            2110           762   \n",
       "3      States    Arkansas     Season 2015-16             128            20   \n",
       "4      States  California     Season 2015-16           12820          1462   \n",
       "\n",
       "  A (H3) A (Subtyping not Performed)    B BVic BYam H3N2v A (H5)  \n",
       "0     16                           1    2    2    2     0      0  \n",
       "1     98                           0  231    1    2     0      0  \n",
       "2    580                           0   13   58  399     0      0  \n",
       "3      8                           0    1   12    0     0      0  \n",
       "4    854                          35  775  309  803     0      0  "
      ]
     },
     "execution_count": 90,
     "metadata": {},
     "output_type": "execute_result"
    }
   ],
   "source": [
    "#Read Data from the CSV's\n",
    "clinical = pd.read_csv(clinp,header=1)\n",
    "public = pd.read_csv(pubp, header=1)\n",
    "combo2015= pd.read_csv(comp, header=1)\n",
    "\n",
    "public.head()"
   ]
  },
  {
   "cell_type": "code",
   "execution_count": 91,
   "metadata": {},
   "outputs": [],
   "source": [
    "#Correct the 2014 week 53 which must have been a recording error, as 2014 only had 52 weeks per the ISO calendar\n",
    "combo2015.loc[(combo2015[\"WEEK\"]==53),\"WEEK\"]=52\n",
    "\n",
    "#Isolate the data taken during flu season for weekly data (October-May)\n",
    "clinical[\"Season\"]=clinical[[\"YEAR\",\"WEEK\"]].apply(lambda row: date.fromisocalendar(int(row['YEAR']), int(row['WEEK']),1).month,axis=1)\n",
    "clinical=clinical.drop(clinical[(clinical.Season<10)&(clinical.Season>5)].index)\n",
    "\n",
    "combo2015[\"Season\"]=combo2015[[\"YEAR\",\"WEEK\"]].apply(lambda row: date.fromisocalendar(int(row['YEAR']), int(row['WEEK']),1).month,axis=1)\n",
    "combo2015=combo2015.drop(combo2015[(combo2015.Season<10)&(combo2015.Season>5)].index)"
   ]
  },
  {
   "cell_type": "code",
   "execution_count": 92,
   "metadata": {},
   "outputs": [],
   "source": [
    "#Drop Null (X only) entries\n",
    "clinical=clinical[clinical[\"TOTAL SPECIMENS\"]!=\"X\"]\n",
    "public=public[public[\"TOTAL SPECIMENS\"]!=\"X\"]\n",
    "combo2015=combo2015[combo2015[\"TOTAL SPECIMENS\"]!=\"X\"]\n",
    "\n",
    "\n",
    "#Replace isolated X's with 0's\n",
    "for coln in [5,6]:\n",
    "    col=clinical.columns[coln]\n",
    "    clinical.loc[clinical[col]==\"X\",col]=0\n",
    "\n",
    "for coln in range(4,12):\n",
    "    col=public.columns[coln]\n",
    "    public.loc[public[col]==\"X\",col]=0\n",
    "\n",
    "for coln in range(6,14):\n",
    "    col=combo2015.columns[coln]\n",
    "    combo2015.loc[combo2015[col]==\"X\",col]=0\n"
   ]
  },
  {
   "cell_type": "code",
   "execution_count": 93,
   "metadata": {},
   "outputs": [
    {
     "data": {
      "application/vnd.microsoft.datawrangler.viewer.v0+json": {
       "columns": [
        {
         "name": "index",
         "rawType": "int64",
         "type": "integer"
        },
        {
         "name": "REGION TYPE",
         "rawType": "object",
         "type": "string"
        },
        {
         "name": "REGION",
         "rawType": "object",
         "type": "string"
        },
        {
         "name": "SEASON_DESCRIPTION",
         "rawType": "object",
         "type": "string"
        },
        {
         "name": "TOTAL SPECIMENS",
         "rawType": "int32",
         "type": "integer"
        },
        {
         "name": "A (2009 H1N1)",
         "rawType": "int32",
         "type": "integer"
        },
        {
         "name": "A (H3)",
         "rawType": "int32",
         "type": "integer"
        },
        {
         "name": "A (Subtyping not Performed)",
         "rawType": "int32",
         "type": "integer"
        },
        {
         "name": "B",
         "rawType": "int32",
         "type": "integer"
        },
        {
         "name": "BVic",
         "rawType": "int32",
         "type": "integer"
        },
        {
         "name": "BYam",
         "rawType": "int32",
         "type": "integer"
        },
        {
         "name": "H3N2v",
         "rawType": "int32",
         "type": "integer"
        },
        {
         "name": "A (H5)",
         "rawType": "int32",
         "type": "integer"
        }
       ],
       "conversionMethod": "pd.DataFrame",
       "ref": "1acac49b-f7b7-49b9-bdc3-2d5fec45af51",
       "rows": [
        [
         "0",
         "States",
         "Alabama",
         "Season 2015-16",
         "256",
         "59",
         "16",
         "1",
         "2",
         "2",
         "2",
         "0",
         "0"
        ],
        [
         "1",
         "States",
         "Alaska",
         "Season 2015-16",
         "4691",
         "607",
         "98",
         "0",
         "231",
         "1",
         "2",
         "0",
         "0"
        ],
        [
         "2",
         "States",
         "Arizona",
         "Season 2015-16",
         "2110",
         "762",
         "580",
         "0",
         "13",
         "58",
         "399",
         "0",
         "0"
        ],
        [
         "3",
         "States",
         "Arkansas",
         "Season 2015-16",
         "128",
         "20",
         "8",
         "0",
         "1",
         "12",
         "0",
         "0",
         "0"
        ],
        [
         "4",
         "States",
         "California",
         "Season 2015-16",
         "12820",
         "1462",
         "854",
         "35",
         "775",
         "309",
         "803",
         "0",
         "0"
        ]
       ],
       "shape": {
        "columns": 12,
        "rows": 5
       }
      },
      "text/html": [
       "<div>\n",
       "<style scoped>\n",
       "    .dataframe tbody tr th:only-of-type {\n",
       "        vertical-align: middle;\n",
       "    }\n",
       "\n",
       "    .dataframe tbody tr th {\n",
       "        vertical-align: top;\n",
       "    }\n",
       "\n",
       "    .dataframe thead th {\n",
       "        text-align: right;\n",
       "    }\n",
       "</style>\n",
       "<table border=\"1\" class=\"dataframe\">\n",
       "  <thead>\n",
       "    <tr style=\"text-align: right;\">\n",
       "      <th></th>\n",
       "      <th>REGION TYPE</th>\n",
       "      <th>REGION</th>\n",
       "      <th>SEASON_DESCRIPTION</th>\n",
       "      <th>TOTAL SPECIMENS</th>\n",
       "      <th>A (2009 H1N1)</th>\n",
       "      <th>A (H3)</th>\n",
       "      <th>A (Subtyping not Performed)</th>\n",
       "      <th>B</th>\n",
       "      <th>BVic</th>\n",
       "      <th>BYam</th>\n",
       "      <th>H3N2v</th>\n",
       "      <th>A (H5)</th>\n",
       "    </tr>\n",
       "  </thead>\n",
       "  <tbody>\n",
       "    <tr>\n",
       "      <th>0</th>\n",
       "      <td>States</td>\n",
       "      <td>Alabama</td>\n",
       "      <td>Season 2015-16</td>\n",
       "      <td>256</td>\n",
       "      <td>59</td>\n",
       "      <td>16</td>\n",
       "      <td>1</td>\n",
       "      <td>2</td>\n",
       "      <td>2</td>\n",
       "      <td>2</td>\n",
       "      <td>0</td>\n",
       "      <td>0</td>\n",
       "    </tr>\n",
       "    <tr>\n",
       "      <th>1</th>\n",
       "      <td>States</td>\n",
       "      <td>Alaska</td>\n",
       "      <td>Season 2015-16</td>\n",
       "      <td>4691</td>\n",
       "      <td>607</td>\n",
       "      <td>98</td>\n",
       "      <td>0</td>\n",
       "      <td>231</td>\n",
       "      <td>1</td>\n",
       "      <td>2</td>\n",
       "      <td>0</td>\n",
       "      <td>0</td>\n",
       "    </tr>\n",
       "    <tr>\n",
       "      <th>2</th>\n",
       "      <td>States</td>\n",
       "      <td>Arizona</td>\n",
       "      <td>Season 2015-16</td>\n",
       "      <td>2110</td>\n",
       "      <td>762</td>\n",
       "      <td>580</td>\n",
       "      <td>0</td>\n",
       "      <td>13</td>\n",
       "      <td>58</td>\n",
       "      <td>399</td>\n",
       "      <td>0</td>\n",
       "      <td>0</td>\n",
       "    </tr>\n",
       "    <tr>\n",
       "      <th>3</th>\n",
       "      <td>States</td>\n",
       "      <td>Arkansas</td>\n",
       "      <td>Season 2015-16</td>\n",
       "      <td>128</td>\n",
       "      <td>20</td>\n",
       "      <td>8</td>\n",
       "      <td>0</td>\n",
       "      <td>1</td>\n",
       "      <td>12</td>\n",
       "      <td>0</td>\n",
       "      <td>0</td>\n",
       "      <td>0</td>\n",
       "    </tr>\n",
       "    <tr>\n",
       "      <th>4</th>\n",
       "      <td>States</td>\n",
       "      <td>California</td>\n",
       "      <td>Season 2015-16</td>\n",
       "      <td>12820</td>\n",
       "      <td>1462</td>\n",
       "      <td>854</td>\n",
       "      <td>35</td>\n",
       "      <td>775</td>\n",
       "      <td>309</td>\n",
       "      <td>803</td>\n",
       "      <td>0</td>\n",
       "      <td>0</td>\n",
       "    </tr>\n",
       "  </tbody>\n",
       "</table>\n",
       "</div>"
      ],
      "text/plain": [
       "  REGION TYPE      REGION SEASON_DESCRIPTION  TOTAL SPECIMENS  A (2009 H1N1)  \\\n",
       "0      States     Alabama     Season 2015-16              256             59   \n",
       "1      States      Alaska     Season 2015-16             4691            607   \n",
       "2      States     Arizona     Season 2015-16             2110            762   \n",
       "3      States    Arkansas     Season 2015-16              128             20   \n",
       "4      States  California     Season 2015-16            12820           1462   \n",
       "\n",
       "   A (H3)  A (Subtyping not Performed)    B  BVic  BYam  H3N2v  A (H5)  \n",
       "0      16                            1    2     2     2      0       0  \n",
       "1      98                            0  231     1     2      0       0  \n",
       "2     580                            0   13    58   399      0       0  \n",
       "3       8                            0    1    12     0      0       0  \n",
       "4     854                           35  775   309   803      0       0  "
      ]
     },
     "execution_count": 93,
     "metadata": {},
     "output_type": "execute_result"
    }
   ],
   "source": [
    "#Convert date data into \"Season year1-year2\" format present in the Public dataset\n",
    "clinical.loc[(clinical[\"Season\"]<10),\"YEAR\"]=clinical[\"YEAR\"].apply(lambda x: x-1)\n",
    "clinical[\"YEAR_2\"]=clinical[\"YEAR\"].apply(lambda x: str(x+1)[2:4])\n",
    "clinical[\"Season\"]=clinical[[\"YEAR\",\"YEAR_2\"]].apply(lambda row: \"Season \"+str(row[\"YEAR\"])+\"-\"+row[\"YEAR_2\"],axis=1)\n",
    "\n",
    "combo2015.loc[(combo2015[\"Season\"]<10),\"YEAR\"]=combo2015[\"YEAR\"].apply(lambda x: x-1)\n",
    "combo2015[\"YEAR_2\"]=combo2015[\"YEAR\"].apply(lambda x: str(x+1)[2:4])\n",
    "combo2015[\"Season\"]=combo2015[[\"YEAR\",\"YEAR_2\"]].apply(lambda row: \"Season \"+str(row[\"YEAR\"])+\"-\"+row[\"YEAR_2\"],axis=1)\n",
    "\n",
    "#Convert Numerical Data into integers\n",
    "clinical=clinical.astype({\"TOTAL SPECIMENS\":\"int32\",\"TOTAL A\":\"int32\",\"TOTAL B\":\"int32\"})\n",
    "combo2015=combo2015.astype({\"TOTAL SPECIMENS\":\"int32\",\"A (2009 H1N1)\":\"int32\",\"A (H1)\":\"int32\",\"A (H3)\":\"int32\",\n",
    "                            \"A (Subtyping not Performed)\":\"int32\",\"A (Unable to Subtype)\":\"int32\",\"B\":\"int32\",\n",
    "                            \"H3N2v\":\"int32\",\"A (H5)\":\"int32\"})\n",
    "public=public.astype({\"TOTAL SPECIMENS\":\"int32\",\"A (2009 H1N1)\":\"int32\",\"A (H3)\":\"int32\",\n",
    "                            \"A (Subtyping not Performed)\":\"int32\",\"B\":\"int32\",\"BVic\":\"int32\",\"BYam\":\"int32\",\n",
    "                            \"H3N2v\":\"int32\",\"A (H5)\":\"int32\"})\n",
    "\n",
    "public.head()\n",
    "\n",
    "#Groupby Season and Region, summing the weekly data into season data\n",
    "#clinical=clinical[[\"Season\",\"REGION\",\"TOTAL SPECIMENS\",\"TOTAL A\",\"TOTAL B\"]].groupby([\"Season\",\"REGION\"]).sum(numeric_only=1)\n",
    "#print(clinical)"
   ]
  }
 ],
 "metadata": {
  "kernelspec": {
   "display_name": "dev",
   "language": "python",
   "name": "python3"
  },
  "language_info": {
   "codemirror_mode": {
    "name": "ipython",
    "version": 3
   },
   "file_extension": ".py",
   "mimetype": "text/x-python",
   "name": "python",
   "nbconvert_exporter": "python",
   "pygments_lexer": "ipython3",
   "version": "3.10.15"
  }
 },
 "nbformat": 4,
 "nbformat_minor": 2
}
