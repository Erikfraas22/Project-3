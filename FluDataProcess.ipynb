{
 "cells": [
  {
   "cell_type": "code",
   "execution_count": 1,
   "metadata": {},
   "outputs": [],
   "source": [
    "#Import Dependencies\n",
    "import pandas as pd\n",
    "from pathlib import Path"
   ]
  },
  {
   "cell_type": "code",
   "execution_count": 2,
   "metadata": {},
   "outputs": [],
   "source": [
    "#Set Paths for Data CSV's\n",
    "clinp=Path(\"Resources/WHO_NREVSS_Clinical_Labs.csv\")\n",
    "pubp=Path(\"Resources/WHO_NREVSS_Public_Health_Labs.csv\")\n",
    "comp=Path(\"Resources/WHO_NREVSS_Combined_prior_to_2015_16.csv\")"
   ]
  },
  {
   "cell_type": "code",
   "execution_count": 11,
   "metadata": {},
   "outputs": [],
   "source": [
    "#Read Data from the CSV's\n",
    "clinical = pd.read_csv(clinp,header=1)\n",
    "public = pd.read_csv(pubp, header=1)\n",
    "combo2016= pd.read_csv(comp, header=1)"
   ]
  },
  {
   "cell_type": "code",
   "execution_count": null,
   "metadata": {},
   "outputs": [
    {
     "data": {
      "text/plain": [
       "WEEK\n",
       "53     54\n",
       "33    486\n",
       "34    486\n",
       "35    486\n",
       "37    486\n",
       "38    486\n",
       "39    486\n",
       "24    486\n",
       "25    486\n",
       "14    486\n",
       "23    486\n",
       "22    486\n",
       "21    486\n",
       "20    486\n",
       "19    486\n",
       "18    486\n",
       "17    486\n",
       "16    486\n",
       "15    486\n",
       "13    486\n",
       "12    486\n",
       "11    486\n",
       "10    486\n",
       "9     486\n",
       "36    486\n",
       "8     486\n",
       "31    486\n",
       "29    486\n",
       "28    486\n",
       "27    486\n",
       "26    486\n",
       "32    486\n",
       "30    486\n",
       "51    540\n",
       "41    540\n",
       "7     540\n",
       "5     540\n",
       "4     540\n",
       "3     540\n",
       "2     540\n",
       "1     540\n",
       "52    540\n",
       "48    540\n",
       "50    540\n",
       "47    540\n",
       "46    540\n",
       "45    540\n",
       "44    540\n",
       "43    540\n",
       "49    540\n",
       "42    540\n",
       "6     540\n",
       "40    540\n",
       "Name: count, dtype: int64"
      ]
     },
     "execution_count": 18,
     "metadata": {},
     "output_type": "execute_result"
    }
   ],
   "source": [
    "#clinical[\"WEEK\"].value_counts().sort_values()\n"
   ]
  }
 ],
 "metadata": {
  "kernelspec": {
   "display_name": "dev",
   "language": "python",
   "name": "python3"
  },
  "language_info": {
   "codemirror_mode": {
    "name": "ipython",
    "version": 3
   },
   "file_extension": ".py",
   "mimetype": "text/x-python",
   "name": "python",
   "nbconvert_exporter": "python",
   "pygments_lexer": "ipython3",
   "version": "3.10.15"
  }
 },
 "nbformat": 4,
 "nbformat_minor": 2
}
