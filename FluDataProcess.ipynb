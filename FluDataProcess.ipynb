{
 "cells": [
  {
   "cell_type": "code",
   "execution_count": 31,
   "metadata": {},
   "outputs": [],
   "source": [
    "#Import Dependencies\n",
    "import pandas as pd\n",
    "from datetime import date\n",
    "from pathlib import Path"
   ]
  },
  {
   "cell_type": "code",
   "execution_count": 28,
   "metadata": {},
   "outputs": [],
   "source": [
    "#Set Paths for Data CSV's\n",
    "clinp=Path(\"Resources/WHO_NREVSS_Clinical_Labs.csv\")\n",
    "pubp=Path(\"Resources/WHO_NREVSS_Public_Health_Labs.csv\")\n",
    "comp=Path(\"Resources/WHO_NREVSS_Combined_prior_to_2015_16.csv\")"
   ]
  },
  {
   "cell_type": "code",
   "execution_count": 99,
   "metadata": {},
   "outputs": [
    {
     "data": {
      "application/vnd.microsoft.datawrangler.viewer.v0+json": {
       "columns": [
        {
         "name": "index",
         "rawType": "int64",
         "type": "integer"
        },
        {
         "name": "REGION TYPE",
         "rawType": "object",
         "type": "string"
        },
        {
         "name": "REGION",
         "rawType": "object",
         "type": "string"
        },
        {
         "name": "SEASON_DESCRIPTION",
         "rawType": "object",
         "type": "string"
        },
        {
         "name": "TOTAL SPECIMENS",
         "rawType": "object",
         "type": "string"
        },
        {
         "name": "A (2009 H1N1)",
         "rawType": "object",
         "type": "string"
        },
        {
         "name": "A (H3)",
         "rawType": "object",
         "type": "string"
        },
        {
         "name": "A (Subtyping not Performed)",
         "rawType": "object",
         "type": "string"
        },
        {
         "name": "B",
         "rawType": "object",
         "type": "string"
        },
        {
         "name": "BVic",
         "rawType": "object",
         "type": "string"
        },
        {
         "name": "BYam",
         "rawType": "object",
         "type": "string"
        },
        {
         "name": "H3N2v",
         "rawType": "object",
         "type": "string"
        },
        {
         "name": "A (H5)",
         "rawType": "object",
         "type": "string"
        }
       ],
       "conversionMethod": "pd.DataFrame",
       "ref": "dda75768-028c-4b95-98da-cefd74832495",
       "rows": [
        [
         "0",
         "States",
         "Alabama",
         "Season 2015-16",
         "256",
         "59",
         "16",
         "1",
         "2",
         "2",
         "2",
         "0",
         "0"
        ],
        [
         "1",
         "States",
         "Alaska",
         "Season 2015-16",
         "4691",
         "607",
         "98",
         "0",
         "231",
         "1",
         "2",
         "0",
         "0"
        ],
        [
         "2",
         "States",
         "Arizona",
         "Season 2015-16",
         "2110",
         "762",
         "580",
         "0",
         "13",
         "58",
         "399",
         "0",
         "0"
        ],
        [
         "3",
         "States",
         "Arkansas",
         "Season 2015-16",
         "128",
         "20",
         "8",
         "0",
         "1",
         "12",
         "0",
         "0",
         "0"
        ],
        [
         "4",
         "States",
         "California",
         "Season 2015-16",
         "12820",
         "1462",
         "854",
         "35",
         "775",
         "309",
         "803",
         "0",
         "0"
        ]
       ],
       "shape": {
        "columns": 12,
        "rows": 5
       }
      },
      "text/html": [
       "<div>\n",
       "<style scoped>\n",
       "    .dataframe tbody tr th:only-of-type {\n",
       "        vertical-align: middle;\n",
       "    }\n",
       "\n",
       "    .dataframe tbody tr th {\n",
       "        vertical-align: top;\n",
       "    }\n",
       "\n",
       "    .dataframe thead th {\n",
       "        text-align: right;\n",
       "    }\n",
       "</style>\n",
       "<table border=\"1\" class=\"dataframe\">\n",
       "  <thead>\n",
       "    <tr style=\"text-align: right;\">\n",
       "      <th></th>\n",
       "      <th>REGION TYPE</th>\n",
       "      <th>REGION</th>\n",
       "      <th>SEASON_DESCRIPTION</th>\n",
       "      <th>TOTAL SPECIMENS</th>\n",
       "      <th>A (2009 H1N1)</th>\n",
       "      <th>A (H3)</th>\n",
       "      <th>A (Subtyping not Performed)</th>\n",
       "      <th>B</th>\n",
       "      <th>BVic</th>\n",
       "      <th>BYam</th>\n",
       "      <th>H3N2v</th>\n",
       "      <th>A (H5)</th>\n",
       "    </tr>\n",
       "  </thead>\n",
       "  <tbody>\n",
       "    <tr>\n",
       "      <th>0</th>\n",
       "      <td>States</td>\n",
       "      <td>Alabama</td>\n",
       "      <td>Season 2015-16</td>\n",
       "      <td>256</td>\n",
       "      <td>59</td>\n",
       "      <td>16</td>\n",
       "      <td>1</td>\n",
       "      <td>2</td>\n",
       "      <td>2</td>\n",
       "      <td>2</td>\n",
       "      <td>0</td>\n",
       "      <td>0</td>\n",
       "    </tr>\n",
       "    <tr>\n",
       "      <th>1</th>\n",
       "      <td>States</td>\n",
       "      <td>Alaska</td>\n",
       "      <td>Season 2015-16</td>\n",
       "      <td>4691</td>\n",
       "      <td>607</td>\n",
       "      <td>98</td>\n",
       "      <td>0</td>\n",
       "      <td>231</td>\n",
       "      <td>1</td>\n",
       "      <td>2</td>\n",
       "      <td>0</td>\n",
       "      <td>0</td>\n",
       "    </tr>\n",
       "    <tr>\n",
       "      <th>2</th>\n",
       "      <td>States</td>\n",
       "      <td>Arizona</td>\n",
       "      <td>Season 2015-16</td>\n",
       "      <td>2110</td>\n",
       "      <td>762</td>\n",
       "      <td>580</td>\n",
       "      <td>0</td>\n",
       "      <td>13</td>\n",
       "      <td>58</td>\n",
       "      <td>399</td>\n",
       "      <td>0</td>\n",
       "      <td>0</td>\n",
       "    </tr>\n",
       "    <tr>\n",
       "      <th>3</th>\n",
       "      <td>States</td>\n",
       "      <td>Arkansas</td>\n",
       "      <td>Season 2015-16</td>\n",
       "      <td>128</td>\n",
       "      <td>20</td>\n",
       "      <td>8</td>\n",
       "      <td>0</td>\n",
       "      <td>1</td>\n",
       "      <td>12</td>\n",
       "      <td>0</td>\n",
       "      <td>0</td>\n",
       "      <td>0</td>\n",
       "    </tr>\n",
       "    <tr>\n",
       "      <th>4</th>\n",
       "      <td>States</td>\n",
       "      <td>California</td>\n",
       "      <td>Season 2015-16</td>\n",
       "      <td>12820</td>\n",
       "      <td>1462</td>\n",
       "      <td>854</td>\n",
       "      <td>35</td>\n",
       "      <td>775</td>\n",
       "      <td>309</td>\n",
       "      <td>803</td>\n",
       "      <td>0</td>\n",
       "      <td>0</td>\n",
       "    </tr>\n",
       "  </tbody>\n",
       "</table>\n",
       "</div>"
      ],
      "text/plain": [
       "  REGION TYPE      REGION SEASON_DESCRIPTION TOTAL SPECIMENS A (2009 H1N1)  \\\n",
       "0      States     Alabama     Season 2015-16             256            59   \n",
       "1      States      Alaska     Season 2015-16            4691           607   \n",
       "2      States     Arizona     Season 2015-16            2110           762   \n",
       "3      States    Arkansas     Season 2015-16             128            20   \n",
       "4      States  California     Season 2015-16           12820          1462   \n",
       "\n",
       "  A (H3) A (Subtyping not Performed)    B BVic BYam H3N2v A (H5)  \n",
       "0     16                           1    2    2    2     0      0  \n",
       "1     98                           0  231    1    2     0      0  \n",
       "2    580                           0   13   58  399     0      0  \n",
       "3      8                           0    1   12    0     0      0  \n",
       "4    854                          35  775  309  803     0      0  "
      ]
     },
     "execution_count": 99,
     "metadata": {},
     "output_type": "execute_result"
    }
   ],
   "source": [
    "#Read Data from the CSV's\n",
    "clinical = pd.read_csv(clinp,header=1)\n",
    "public = pd.read_csv(pubp, header=1)\n",
    "combo2016= pd.read_csv(comp, header=1)\n",
    "\n",
    "public.head()"
   ]
  },
  {
   "cell_type": "code",
   "execution_count": null,
   "metadata": {},
   "outputs": [
    {
     "data": {
      "text/plain": [
       "54    Season 2015-16\n",
       "55    Season 2015-16\n",
       "56    Season 2015-16\n",
       "57    Season 2015-16\n",
       "58    Season 2015-16\n",
       "Name: Season, dtype: object"
      ]
     },
     "execution_count": 100,
     "metadata": {},
     "output_type": "execute_result"
    }
   ],
   "source": [
    "#Isolate the data taken during flu season (October-May)\n",
    "clinical[\"Season\"]=clinical[[\"YEAR\",\"WEEK\"]].apply(lambda row: date.fromisocalendar(int(row['YEAR']), int(row['WEEK']),1).month,axis=1)\n",
    "clinical=clinical.drop(clinical[(clinical.Season<10)&(clinical.Season>5)].index)\n",
    "\n",
    "#Convert date data into \"Season year1-year2\" format present in the Public dataset\n",
    "clinical.loc[(clinical[\"Season\"]<10),\"YEAR\"]=clinical[\"YEAR\"].apply(lambda x: x-1)\n",
    "clinical[\"YEAR_2\"]=clinical[\"YEAR\"].apply(lambda x: str(x+1)[2:4])\n",
    "clinical[\"Season\"]=clinical[[\"YEAR\",\"YEAR_2\"]].apply(lambda row: \"Season \"+str(row[\"YEAR\"])+\"-\"+row[\"YEAR_2\"],axis=1)\n",
    "clinical[\"Season\"].head()\n"
   ]
  }
 ],
 "metadata": {
  "kernelspec": {
   "display_name": "dev",
   "language": "python",
   "name": "python3"
  },
  "language_info": {
   "codemirror_mode": {
    "name": "ipython",
    "version": 3
   },
   "file_extension": ".py",
   "mimetype": "text/x-python",
   "name": "python",
   "nbconvert_exporter": "python",
   "pygments_lexer": "ipython3",
   "version": "3.10.15"
  }
 },
 "nbformat": 4,
 "nbformat_minor": 2
}
